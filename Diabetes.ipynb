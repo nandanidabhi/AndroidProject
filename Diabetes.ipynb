{
  "nbformat": 4,
  "nbformat_minor": 0,
  "metadata": {
    "kernelspec": {
      "display_name": "Python 3",
      "language": "python",
      "name": "python3"
    },
    "language_info": {
      "codemirror_mode": {
        "name": "ipython",
        "version": 3
      },
      "file_extension": ".py",
      "mimetype": "text/x-python",
      "name": "python",
      "nbconvert_exporter": "python",
      "pygments_lexer": "ipython3",
      "version": "3.7.6"
    },
    "colab": {
      "name": "Diabetes.ipynb",
      "provenance": [],
      "collapsed_sections": [],
      "toc_visible": true,
      "include_colab_link": true
    }
  },
  "cells": [
    {
      "cell_type": "markdown",
      "metadata": {
        "id": "view-in-github",
        "colab_type": "text"
      },
      "source": [
        "<a href=\"https://colab.research.google.com/github/nandanidabhi/AndroidProject/blob/master/Diabetes.ipynb\" target=\"_parent\"><img src=\"https://colab.research.google.com/assets/colab-badge.svg\" alt=\"Open In Colab\"/></a>"
      ]
    },
    {
      "cell_type": "markdown",
      "metadata": {
        "id": "1Ki4LlC9kwvG"
      },
      "source": [
        "## **Imputation of Missing Data (Group Assignment)** \n"
      ]
    },
    {
      "cell_type": "markdown",
      "metadata": {
        "id": "NjHafyAeik3-"
      },
      "source": [
        "Group 6:\n",
        "1. Priyanka Jadhav (801167642) pjadhav7@uncc.edu\n",
        "2. Aakanksha Chauhan (801168731) achauha3@uncc.edu\n",
        "3. Nandani Dabhi (801167740) ndabhi@uncc.edu"
      ]
    },
    {
      "cell_type": "markdown",
      "metadata": {
        "id": "-Qz7QcEylIDo"
      },
      "source": [
        "### **Dataset Introduction**\n",
        "\n",
        " **Diabetes Dataset**\n",
        "\n",
        "We have used Diabetes dataset for studying and implementing Imputation of Missing Data. It was used for the prediction model of **the onset of diabetes within 5 years in given medical details**.\n",
        "<br>\n",
        "<br>\n",
        "Below is the details about dataset:\n",
        "<br>Number of attributes/predictors: **8**\n",
        "<br>Number of target/ outcome variables: **1**\n",
        "<br>Number of observations/records: **768** \n",
        "\n",
        "Following are the attributes and target variables:\n",
        "0. Number of times pregnant.\n",
        "1. Plasma glucose concentration a 2 hours in an oral glucose tolerance test.\n",
        "2. Diastolic blood pressure (mm Hg).\n",
        "3. Triceps skinfold thickness (mm).\n",
        "4. 2-Hour serum insulin (mu U/ml).\n",
        "5. Body mass index (weight in kg/(height in m)^2).\n",
        "6. Diabetes pedigree function.\n",
        "7. Age (years).\n",
        "8. Class variable (0 or 1).\n"
      ]
    },
    {
      "cell_type": "markdown",
      "metadata": {
        "id": "WeFNTc5nowod"
      },
      "source": [
        "#### **Load and summarize the dataset**"
      ]
    },
    {
      "cell_type": "code",
      "metadata": {
        "id": "pNH_TV47ik3-",
        "outputId": "adf47434-5132-4a20-83d1-68ac09d86082",
        "colab": {
          "base_uri": "https://localhost:8080/",
          "height": 204
        }
      },
      "source": [
        "# load and summarize the dataset\n",
        "from pandas import read_csv\n",
        "# load the dataset\n",
        "url = 'https://raw.githubusercontent.com/jbrownlee/Datasets/master/pima-indians-diabetes.csv'\n",
        "dataset = read_csv(url, header=None)\n",
        "# summarize the dataset\n",
        "print(dataset.describe())"
      ],
      "execution_count": null,
      "outputs": [
        {
          "output_type": "stream",
          "text": [
            "                0           1           2  ...           6           7           8\n",
            "count  768.000000  768.000000  768.000000  ...  768.000000  768.000000  768.000000\n",
            "mean     3.845052  120.894531   69.105469  ...    0.471876   33.240885    0.348958\n",
            "std      3.369578   31.972618   19.355807  ...    0.331329   11.760232    0.476951\n",
            "min      0.000000    0.000000    0.000000  ...    0.078000   21.000000    0.000000\n",
            "25%      1.000000   99.000000   62.000000  ...    0.243750   24.000000    0.000000\n",
            "50%      3.000000  117.000000   72.000000  ...    0.372500   29.000000    0.000000\n",
            "75%      6.000000  140.250000   80.000000  ...    0.626250   41.000000    1.000000\n",
            "max     17.000000  199.000000  122.000000  ...    2.420000   81.000000    1.000000\n",
            "\n",
            "[8 rows x 9 columns]\n"
          ],
          "name": "stdout"
        }
      ]
    },
    {
      "cell_type": "code",
      "metadata": {
        "id": "2c6xDBC7ik4D",
        "outputId": "38e8d6a5-6e0b-44be-fdd3-9757d58f9210",
        "colab": {
          "base_uri": "https://localhost:8080/",
          "height": 34
        }
      },
      "source": [
        "dataset.columns"
      ],
      "execution_count": null,
      "outputs": [
        {
          "output_type": "execute_result",
          "data": {
            "text/plain": [
              "Int64Index([0, 1, 2, 3, 4, 5, 6, 7, 8], dtype='int64')"
            ]
          },
          "metadata": {
            "tags": []
          },
          "execution_count": 2
        }
      ]
    },
    {
      "cell_type": "code",
      "metadata": {
        "id": "r4o4rA_qik4G",
        "outputId": "2a74c2bb-ce2c-48f4-89fe-ac7e44291145",
        "colab": {
          "base_uri": "https://localhost:8080/",
          "height": 374
        }
      },
      "source": [
        "# load the dataset and review rows\n",
        "from pandas import read_csv\n",
        "# load the dataset\n",
        "dataset = read_csv(url, header=None)\n",
        "# print the first 20 rows of data\n",
        "print(dataset.head(20))"
      ],
      "execution_count": null,
      "outputs": [
        {
          "output_type": "stream",
          "text": [
            "     0    1   2   3    4     5      6   7  8\n",
            "0    6  148  72  35    0  33.6  0.627  50  1\n",
            "1    1   85  66  29    0  26.6  0.351  31  0\n",
            "2    8  183  64   0    0  23.3  0.672  32  1\n",
            "3    1   89  66  23   94  28.1  0.167  21  0\n",
            "4    0  137  40  35  168  43.1  2.288  33  1\n",
            "5    5  116  74   0    0  25.6  0.201  30  0\n",
            "6    3   78  50  32   88  31.0  0.248  26  1\n",
            "7   10  115   0   0    0  35.3  0.134  29  0\n",
            "8    2  197  70  45  543  30.5  0.158  53  1\n",
            "9    8  125  96   0    0   0.0  0.232  54  1\n",
            "10   4  110  92   0    0  37.6  0.191  30  0\n",
            "11  10  168  74   0    0  38.0  0.537  34  1\n",
            "12  10  139  80   0    0  27.1  1.441  57  0\n",
            "13   1  189  60  23  846  30.1  0.398  59  1\n",
            "14   5  166  72  19  175  25.8  0.587  51  1\n",
            "15   7  100   0   0    0  30.0  0.484  32  1\n",
            "16   0  118  84  47  230  45.8  0.551  31  1\n",
            "17   7  107  74   0    0  29.6  0.254  31  1\n",
            "18   1  103  30  38   83  43.3  0.183  33  0\n",
            "19   1  115  70  30   96  34.6  0.529  32  1\n"
          ],
          "name": "stdout"
        }
      ]
    },
    {
      "cell_type": "code",
      "metadata": {
        "id": "dwHASEcyik4I",
        "outputId": "1490b31d-685f-4a07-f360-1891e89dae93",
        "colab": {
          "base_uri": "https://localhost:8080/",
          "height": 187
        }
      },
      "source": [
        "dataset.isnull().sum()"
      ],
      "execution_count": null,
      "outputs": [
        {
          "output_type": "execute_result",
          "data": {
            "text/plain": [
              "0    0\n",
              "1    0\n",
              "2    0\n",
              "3    0\n",
              "4    0\n",
              "5    0\n",
              "6    0\n",
              "7    0\n",
              "8    0\n",
              "dtype: int64"
            ]
          },
          "metadata": {
            "tags": []
          },
          "execution_count": 4
        }
      ]
    },
    {
      "cell_type": "markdown",
      "metadata": {
        "id": "j-KEiW5Po5sU"
      },
      "source": [
        "#### **Example of summarizing the number of missing values for each variable**"
      ]
    },
    {
      "cell_type": "code",
      "metadata": {
        "id": "mk5rY8luik4L",
        "outputId": "71fb0a89-e1e3-4e9d-e6e1-9db1b408055b",
        "colab": {
          "base_uri": "https://localhost:8080/",
          "height": 119
        }
      },
      "source": [
        "# example of summarizing the number of missing values for each variable\n",
        "from pandas import read_csv\n",
        "# load the dataset\n",
        "dataset = read_csv(url, header=None)\n",
        "# count the number of missing values for each column\n",
        "num_missing = (dataset[[1,2,3,4,5]] == 0).sum()\n",
        "# report the results\n",
        "print(num_missing)"
      ],
      "execution_count": null,
      "outputs": [
        {
          "output_type": "stream",
          "text": [
            "1      5\n",
            "2     35\n",
            "3    227\n",
            "4    374\n",
            "5     11\n",
            "dtype: int64\n"
          ],
          "name": "stdout"
        }
      ]
    },
    {
      "cell_type": "markdown",
      "metadata": {
        "id": "49W1e4JipD4e"
      },
      "source": [
        "#### **Example of marking missing values with nan values**"
      ]
    },
    {
      "cell_type": "markdown",
      "metadata": {
        "id": "E0qc7cIHo_Kp"
      },
      "source": [
        ""
      ]
    },
    {
      "cell_type": "code",
      "metadata": {
        "id": "dpnCzSeyik4O",
        "outputId": "f2ec8113-a763-4524-9842-d8dbbaf3471d",
        "colab": {
          "base_uri": "https://localhost:8080/",
          "height": 187
        }
      },
      "source": [
        "# example of marking missing values with nan values\n",
        "from numpy import nan\n",
        "from pandas import read_csv\n",
        "# load the dataset\n",
        "dataset = read_csv(url, header=None)\n",
        "# replace '0' values with 'nan'\n",
        "dataset[[1,2,3,4,5]] = dataset[[1,2,3,4,5]].replace(0, nan)\n",
        "# count the number of nan values in each column\n",
        "print(dataset.isnull().sum())"
      ],
      "execution_count": null,
      "outputs": [
        {
          "output_type": "stream",
          "text": [
            "0      0\n",
            "1      5\n",
            "2     35\n",
            "3    227\n",
            "4    374\n",
            "5     11\n",
            "6      0\n",
            "7      0\n",
            "8      0\n",
            "dtype: int64\n"
          ],
          "name": "stdout"
        }
      ]
    },
    {
      "cell_type": "markdown",
      "metadata": {
        "id": "Q5nI3hQkpJov"
      },
      "source": [
        "#### **Example of review rows from the dataset with missing values marked**"
      ]
    },
    {
      "cell_type": "code",
      "metadata": {
        "id": "ghTaga97ik4R",
        "outputId": "89ca543b-3d27-4226-83d5-879959e1a524",
        "colab": {
          "base_uri": "https://localhost:8080/",
          "height": 374
        }
      },
      "source": [
        "# example of review rows from the dataset with missing values marked\n",
        "from numpy import nan\n",
        "from pandas import read_csv\n",
        "# load the dataset\n",
        "dataset = read_csv(url, header=None)\n",
        "# replace '0' values with 'nan'\n",
        "dataset[[1,2,3,4,5]] = dataset[[1,2,3,4,5]].replace(0, nan)\n",
        "# print the first 20 rows of data\n",
        "print(dataset.head(20))"
      ],
      "execution_count": null,
      "outputs": [
        {
          "output_type": "stream",
          "text": [
            "     0      1     2     3      4     5      6   7  8\n",
            "0    6  148.0  72.0  35.0    NaN  33.6  0.627  50  1\n",
            "1    1   85.0  66.0  29.0    NaN  26.6  0.351  31  0\n",
            "2    8  183.0  64.0   NaN    NaN  23.3  0.672  32  1\n",
            "3    1   89.0  66.0  23.0   94.0  28.1  0.167  21  0\n",
            "4    0  137.0  40.0  35.0  168.0  43.1  2.288  33  1\n",
            "5    5  116.0  74.0   NaN    NaN  25.6  0.201  30  0\n",
            "6    3   78.0  50.0  32.0   88.0  31.0  0.248  26  1\n",
            "7   10  115.0   NaN   NaN    NaN  35.3  0.134  29  0\n",
            "8    2  197.0  70.0  45.0  543.0  30.5  0.158  53  1\n",
            "9    8  125.0  96.0   NaN    NaN   NaN  0.232  54  1\n",
            "10   4  110.0  92.0   NaN    NaN  37.6  0.191  30  0\n",
            "11  10  168.0  74.0   NaN    NaN  38.0  0.537  34  1\n",
            "12  10  139.0  80.0   NaN    NaN  27.1  1.441  57  0\n",
            "13   1  189.0  60.0  23.0  846.0  30.1  0.398  59  1\n",
            "14   5  166.0  72.0  19.0  175.0  25.8  0.587  51  1\n",
            "15   7  100.0   NaN   NaN    NaN  30.0  0.484  32  1\n",
            "16   0  118.0  84.0  47.0  230.0  45.8  0.551  31  1\n",
            "17   7  107.0  74.0   NaN    NaN  29.6  0.254  31  1\n",
            "18   1  103.0  30.0  38.0   83.0  43.3  0.183  33  0\n",
            "19   1  115.0  70.0  30.0   96.0  34.6  0.529  32  1\n"
          ],
          "name": "stdout"
        }
      ]
    },
    {
      "cell_type": "markdown",
      "metadata": {
        "id": "syns0L1xr3Ut"
      },
      "source": [
        ""
      ]
    },
    {
      "cell_type": "markdown",
      "metadata": {
        "id": "azwCxRBCik4U"
      },
      "source": [
        "We will try to evaluate a the Linear Discriminant Analysis (LDA) algorithm on the dataset with missing values.\n",
        "\n",
        "This is an algorithm that does not work when there are missing values in the dataset.\n",
        "\n",
        "The below example marks the missing values in the dataset, then attempts to evaluate LDA using 3-fold cross validation and print the mean accuracy."
      ]
    },
    {
      "cell_type": "markdown",
      "metadata": {
        "id": "NR7XH3sTpQax"
      },
      "source": [
        "#### **Example where missing values cause errors**"
      ]
    },
    {
      "cell_type": "code",
      "metadata": {
        "id": "1629zcBuik4V",
        "outputId": "6efba95d-ad77-4b74-abeb-ff20d66e59de",
        "colab": {
          "base_uri": "https://localhost:8080/",
          "height": 258
        }
      },
      "source": [
        "# example where missing values cause errors\n",
        "from numpy import nan\n",
        "from pandas import read_csv\n",
        "from sklearn.discriminant_analysis import LinearDiscriminantAnalysis\n",
        "from sklearn.model_selection import KFold\n",
        "from sklearn.model_selection import cross_val_score\n",
        "# load the dataset\n",
        "dataset = read_csv(url, header=None)\n",
        "# replace '0' values with 'nan'\n",
        "dataset[[1,2,3,4,5]] = dataset[[1,2,3,4,5]].replace(0, nan)\n",
        "# split dataset into inputs and outputs\n",
        "values = dataset.values\n",
        "X = values[:,0:8]\n",
        "y = values[:,8]\n",
        "# define the model\n",
        "model = LinearDiscriminantAnalysis()\n",
        "# define the model evaluation procedure\n",
        "cv = KFold(n_splits=3, shuffle=True, random_state=1)\n",
        "# evaluate the model\n",
        "result = cross_val_score(model, X, y, cv=cv, scoring='accuracy')\n",
        "# report the mean performance\n",
        "print('Accuracy: %.3f' % result.mean())"
      ],
      "execution_count": null,
      "outputs": [
        {
          "output_type": "stream",
          "text": [
            "Accuracy: nan\n"
          ],
          "name": "stdout"
        },
        {
          "output_type": "stream",
          "text": [
            "/usr/local/lib/python3.6/dist-packages/sklearn/model_selection/_validation.py:536: FitFailedWarning: Estimator fit failed. The score on this train-test partition for these parameters will be set to nan. Details: \n",
            "ValueError: Input contains NaN, infinity or a value too large for dtype('float64').\n",
            "\n",
            "  FitFailedWarning)\n",
            "/usr/local/lib/python3.6/dist-packages/sklearn/model_selection/_validation.py:536: FitFailedWarning: Estimator fit failed. The score on this train-test partition for these parameters will be set to nan. Details: \n",
            "ValueError: Input contains NaN, infinity or a value too large for dtype('float64').\n",
            "\n",
            "  FitFailedWarning)\n",
            "/usr/local/lib/python3.6/dist-packages/sklearn/model_selection/_validation.py:536: FitFailedWarning: Estimator fit failed. The score on this train-test partition for these parameters will be set to nan. Details: \n",
            "ValueError: Input contains NaN, infinity or a value too large for dtype('float64').\n",
            "\n",
            "  FitFailedWarning)\n"
          ],
          "name": "stderr"
        }
      ]
    },
    {
      "cell_type": "markdown",
      "metadata": {
        "id": "vTdgmDyXik4X"
      },
      "source": [
        "Remove rows with missing values:\n",
        "Pandas provides the dropna() function that can be used to drop either columns or rows with missing data."
      ]
    },
    {
      "cell_type": "markdown",
      "metadata": {
        "id": "jHJGO8QcpaxA"
      },
      "source": [
        "#### **Example of removing rows that contain missing values**"
      ]
    },
    {
      "cell_type": "code",
      "metadata": {
        "id": "7h-GS0sMik4X",
        "outputId": "729270e2-4468-41f4-ce6e-2ebced8c13c6",
        "colab": {
          "base_uri": "https://localhost:8080/",
          "height": 51
        }
      },
      "source": [
        "# example of removing rows that contain missing values\n",
        "from numpy import nan\n",
        "from pandas import read_csv\n",
        "# load the dataset\n",
        "dataset = read_csv(url, header=None)\n",
        "# summarize the shape of the raw data\n",
        "print(dataset.shape)\n",
        "# replace '0' values with 'nan'\n",
        "dataset[[1,2,3,4,5]] = dataset[[1,2,3,4,5]].replace(0, nan)\n",
        "# drop rows with missing values\n",
        "dataset.dropna(inplace=True)\n",
        "# summarize the shape of the data with missing rows removed\n",
        "print(dataset.shape)"
      ],
      "execution_count": null,
      "outputs": [
        {
          "output_type": "stream",
          "text": [
            "(768, 9)\n",
            "(392, 9)\n"
          ],
          "name": "stdout"
        }
      ]
    },
    {
      "cell_type": "markdown",
      "metadata": {
        "id": "Y8dx6nOaik4a"
      },
      "source": [
        "We now have a dataset that we could use to evaluate an algorithm sensitive to missing values like LDA."
      ]
    },
    {
      "cell_type": "markdown",
      "metadata": {
        "id": "KxAibENGp2Az"
      },
      "source": [
        "#### **Evaluate model on data after rows with missing data are removed**"
      ]
    },
    {
      "cell_type": "code",
      "metadata": {
        "id": "47FYr4rOik4a",
        "outputId": "43112f93-f35a-4b99-f1b1-c3019309d5a8",
        "colab": {
          "base_uri": "https://localhost:8080/",
          "height": 34
        }
      },
      "source": [
        "# evaluate model on data after rows with missing data are removed\n",
        "from numpy import nan\n",
        "from pandas import read_csv\n",
        "from sklearn.discriminant_analysis import LinearDiscriminantAnalysis\n",
        "from sklearn.model_selection import KFold\n",
        "from sklearn.model_selection import cross_val_score\n",
        "# load the dataset\n",
        "dataset = read_csv(url, header=None)\n",
        "# replace '0' values with 'nan'\n",
        "dataset[[1,2,3,4,5]] = dataset[[1,2,3,4,5]].replace(0, nan)\n",
        "# drop rows with missing values\n",
        "dataset.dropna(inplace=True)\n",
        "# split dataset into inputs and outputs\n",
        "values = dataset.values\n",
        "X = values[:,0:8]\n",
        "y = values[:,8]\n",
        "# define the model\n",
        "model = LinearDiscriminantAnalysis()\n",
        "# define the model evaluation procedure\n",
        "cv = KFold(n_splits=5, shuffle=True, random_state=1)\n",
        "# evaluate the model\n",
        "result = cross_val_score(model, X, y, cv=cv, scoring='accuracy')\n",
        "# report the mean performance\n",
        "print('Accuracy: %.3f' % result.mean())"
      ],
      "execution_count": null,
      "outputs": [
        {
          "output_type": "stream",
          "text": [
            "Accuracy: 0.788\n"
          ],
          "name": "stdout"
        }
      ]
    },
    {
      "cell_type": "markdown",
      "metadata": {
        "id": "Mo5VNOlYik4d"
      },
      "source": [
        "Imputing refers to using a model to replace missing values.\n",
        "There are many options we could consider when replacing a missing value, for example:\n",
        "A constant value that has meaning within the domain, such as 0, distinct from all other values.\n",
        "A value from another randomly selected record.\n",
        "A mean, median or mode value for the column.\n",
        "A value estimated by another predictive model.\n",
        "We can use fillna() to replace missing values with the mean value for each column"
      ]
    },
    {
      "cell_type": "markdown",
      "metadata": {
        "id": "RpHNoNi-p5bY"
      },
      "source": [
        "#### **Manually impute missing values with numpy**"
      ]
    },
    {
      "cell_type": "code",
      "metadata": {
        "id": "PvkLrfsiik4d",
        "outputId": "c671cc87-83f5-489f-8b56-e48ee8156b25",
        "colab": {
          "base_uri": "https://localhost:8080/",
          "height": 187
        }
      },
      "source": [
        "# manually impute missing values with numpy\n",
        "from pandas import read_csv\n",
        "from numpy import nan\n",
        "# load the dataset\n",
        "dataset = read_csv(url, header=None)\n",
        "# mark zero values as missing or NaN\n",
        "dataset[[1,2,3,4,5]] = dataset[[1,2,3,4,5]].replace(0, nan)\n",
        "# fill missing values with mean column values\n",
        "dataset.fillna(dataset.mean(), inplace=True)\n",
        "# count the number of NaN values in each column\n",
        "print(dataset.isnull().sum())"
      ],
      "execution_count": null,
      "outputs": [
        {
          "output_type": "stream",
          "text": [
            "0    0\n",
            "1    0\n",
            "2    0\n",
            "3    0\n",
            "4    0\n",
            "5    0\n",
            "6    0\n",
            "7    0\n",
            "8    0\n",
            "dtype: int64\n"
          ],
          "name": "stdout"
        }
      ]
    },
    {
      "cell_type": "markdown",
      "metadata": {
        "id": "4V5COirqik4f"
      },
      "source": [
        "The scikit-learn library provides the SimpleImputer pre-processing class that can be used to replace missing values."
      ]
    },
    {
      "cell_type": "markdown",
      "metadata": {
        "id": "1uAFFBvkik4g"
      },
      "source": [
        "## **Using strategy = Mean**"
      ]
    },
    {
      "cell_type": "code",
      "metadata": {
        "id": "eIAm_ESBik4g",
        "outputId": "4910beae-5b68-48fe-fefb-9e1eb9a08d3a",
        "colab": {
          "base_uri": "https://localhost:8080/",
          "height": 34
        }
      },
      "source": [
        "# example of imputing missing values using scikit-learn\n",
        "from numpy import nan\n",
        "from numpy import isnan\n",
        "from pandas import read_csv\n",
        "from sklearn.impute import SimpleImputer\n",
        "# load the dataset\n",
        "dataset = read_csv(url, header=None)\n",
        "# mark zero values as missing or NaN\n",
        "dataset[[1,2,3,4,5]] = dataset[[1,2,3,4,5]].replace(0, nan)\n",
        "# retrieve the numpy array\n",
        "values = dataset.values\n",
        "# define the imputer\n",
        "imputer = SimpleImputer(missing_values=nan, strategy='mean')\n",
        "# transform the dataset\n",
        "transformed_values = imputer.fit_transform(values)\n",
        "# count the number of NaN values in each column\n",
        "print('Missing: %d' % isnan(transformed_values).sum())"
      ],
      "execution_count": null,
      "outputs": [
        {
          "output_type": "stream",
          "text": [
            "Missing: 0\n"
          ],
          "name": "stdout"
        }
      ]
    },
    {
      "cell_type": "markdown",
      "metadata": {
        "id": "5lyikmXsik4j"
      },
      "source": [
        "The example below shows the LDA algorithm trained in the SimpleImputer transformed dataset.\n",
        "\n",
        "We use a Pipeline to define the modeling pipeline, where data is first passed through the imputer transform, then provided to the model. This ensures that the imputer and model are both fit only on the training dataset and evaluated on the test dataset within each cross-validation fold. This is important to avoid data leakage."
      ]
    },
    {
      "cell_type": "markdown",
      "metadata": {
        "id": "m4_jnroyik4j"
      },
      "source": [
        "## **Imputer Transformation**"
      ]
    },
    {
      "cell_type": "code",
      "metadata": {
        "id": "E3L5wrTQik4k",
        "outputId": "9d66560f-7a17-4cde-da2a-7c13b065fe9b",
        "colab": {
          "base_uri": "https://localhost:8080/",
          "height": 34
        }
      },
      "source": [
        "# example of evaluating a model after an imputer transform\n",
        "from numpy import nan\n",
        "from pandas import read_csv\n",
        "from sklearn.pipeline import Pipeline\n",
        "from sklearn.impute import SimpleImputer\n",
        "from sklearn.discriminant_analysis import LinearDiscriminantAnalysis\n",
        "from sklearn.model_selection import KFold\n",
        "from sklearn.model_selection import cross_val_score\n",
        "dataset = read_csv(url, header=None)\n",
        "# mark zero values as missing or NaN\n",
        "dataset[[1,2,3,4,5]] = dataset[[1,2,3,4,5]].replace(0, nan)\n",
        "# split dataset into inputs and outputs\n",
        "values = dataset.values\n",
        "X = values[:,0:8]\n",
        "y = values[:,8]\n",
        "# define the imputer\n",
        "imputer = SimpleImputer(missing_values=nan, strategy='mean')\n",
        "# define the model\n",
        "lda = LinearDiscriminantAnalysis()\n",
        "# define the modeling pipeline\n",
        "pipeline = Pipeline(steps=[('imputer', imputer),('model', lda)])\n",
        "# define the cross validation procedure\n",
        "kfold = KFold(n_splits=5, shuffle=True, random_state=1)\n",
        "# evaluate the model\n",
        "result = cross_val_score(pipeline, X, y, cv=kfold, scoring='accuracy')\n",
        "# report the mean performance\n",
        "print('Accuracy: %.3f' % result.mean())"
      ],
      "execution_count": null,
      "outputs": [
        {
          "output_type": "stream",
          "text": [
            "Accuracy: 0.770\n"
          ],
          "name": "stdout"
        }
      ]
    },
    {
      "cell_type": "code",
      "metadata": {
        "id": "-hVyse1Oik4m",
        "outputId": "54f912cb-645d-418f-a302-fb0bf6b078d5",
        "colab": {
          "base_uri": "https://localhost:8080/",
          "height": 34
        }
      },
      "source": [
        "# evaluate mean imputation and random forest for the Diabetes dataset\n",
        "from numpy import mean\n",
        "from numpy import std\n",
        "from pandas import read_csv\n",
        "from sklearn.ensemble import RandomForestClassifier\n",
        "from sklearn.impute import SimpleImputer\n",
        "from sklearn.model_selection import cross_val_score\n",
        "from sklearn.model_selection import RepeatedStratifiedKFold\n",
        "from sklearn.pipeline import Pipeline\n",
        "# load dataset\n",
        "dataframe = read_csv(url, header=None, na_values='?')\n",
        "# split into input and output elements\n",
        "data = dataframe.values\n",
        "ix = [i for i in range(data.shape[1]) if i != 8]\n",
        "X, y = data[:, ix], data[:, 8]\n",
        "# define modeling pipeline\n",
        "model = RandomForestClassifier()\n",
        "imputer = SimpleImputer(strategy='mean')\n",
        "pipeline = Pipeline(steps=[('i', imputer), ('m', model)])\n",
        "# define model evaluation\n",
        "cv = RepeatedStratifiedKFold(n_splits=22, n_repeats=3, random_state=1)\n",
        "# evaluate model\n",
        "scores = cross_val_score(pipeline, X, y, scoring='accuracy', cv=cv, n_jobs=-1)\n",
        "print('Mean Accuracy: %.3f (%.3f)' % (mean(scores), std(scores)))"
      ],
      "execution_count": null,
      "outputs": [
        {
          "output_type": "stream",
          "text": [
            "Mean Accuracy: 0.762 (0.063)\n"
          ],
          "name": "stdout"
        }
      ]
    },
    {
      "cell_type": "markdown",
      "metadata": {
        "id": "Ib3S2xuXik4p"
      },
      "source": [
        "In order to enhance the performance of our model using Linear Discriminant Analysis (LDA) we have played with number of splits for cross-validation in order to get maximum mean accuracy. For n_splits = 22 we found the best performance of mean_accuracy which is 0.770."
      ]
    },
    {
      "cell_type": "markdown",
      "metadata": {
        "id": "Ea5IpO1crdBb"
      },
      "source": [
        "#### **Compare statistical imputation strategies for the Diabetes dataset**"
      ]
    },
    {
      "cell_type": "code",
      "metadata": {
        "id": "RHnlZ6B-ik4p",
        "outputId": "f0fb81f9-3b59-49f7-beb3-655e143fa7ed",
        "colab": {
          "base_uri": "https://localhost:8080/",
          "height": 334
        }
      },
      "source": [
        "# compare statistical imputation strategies for the Diabetes dataset\n",
        "from numpy import mean\n",
        "from numpy import std\n",
        "from pandas import read_csv\n",
        "from sklearn.ensemble import RandomForestClassifier\n",
        "from sklearn.impute import SimpleImputer\n",
        "from sklearn.model_selection import cross_val_score\n",
        "from sklearn.model_selection import RepeatedStratifiedKFold\n",
        "from sklearn.pipeline import Pipeline\n",
        "from matplotlib import pyplot\n",
        "# load dataset\n",
        "dataframe = read_csv(url, header=None, na_values='?')\n",
        "# split into input and output elements\n",
        "data = dataframe.values\n",
        "ix = [i for i in range(data.shape[1]) if i != 8]\n",
        "X, y = data[:, ix], data[:, 8]\n",
        "# evaluate each strategy on the dataset\n",
        "results = list()\n",
        "strategies = ['mean', 'median', 'most_frequent', 'constant']\n",
        "for s in strategies:\n",
        "\t# create the modeling pipeline\n",
        "\tpipeline = Pipeline(steps=[('i', SimpleImputer(strategy=s)), ('m', RandomForestClassifier())])\n",
        "\t# evaluate the model\n",
        "\tcv = RepeatedStratifiedKFold(n_splits=10, n_repeats=3, random_state=1)\n",
        "\tscores = cross_val_score(pipeline, X, y, scoring='accuracy', cv=cv, n_jobs=-1)\n",
        "\t# store results\n",
        "\tresults.append(scores)\n",
        "\tprint('>%s %.3f (%.3f)' % (s, mean(scores), std(scores)))\n",
        "# plot model performance for comparison\n",
        "pyplot.boxplot(results, labels=strategies, showmeans=True)\n",
        "pyplot.show()"
      ],
      "execution_count": null,
      "outputs": [
        {
          "output_type": "stream",
          "text": [
            ">mean 0.761 (0.044)\n",
            ">median 0.762 (0.046)\n",
            ">most_frequent 0.763 (0.045)\n",
            ">constant 0.765 (0.042)\n"
          ],
          "name": "stdout"
        },
        {
          "output_type": "display_data",
          "data": {
            "image/png": "[encoded data removed]",
            "text/plain": [
              "<Figure size 432x288 with 1 Axes>"
            ]
          },
          "metadata": {
            "tags": [],
            "needs_background": "light"
          }
        }
      ]
    },
    {
      "cell_type": "code",
      "metadata": {
        "id": "pBX5Mzn5ik4r",
        "outputId": "d39885b1-f0c3-462c-ff8a-1115e13c73c3",
        "colab": {
          "base_uri": "https://localhost:8080/",
          "height": 742
        }
      },
      "source": [
        "# compare statistical imputation strategies for the Diabetes dataset\n",
        "from numpy import mean\n",
        "from numpy import std\n",
        "from pandas import read_csv\n",
        "from sklearn.ensemble import RandomForestClassifier\n",
        "from sklearn.impute import SimpleImputer\n",
        "from sklearn.model_selection import cross_val_score\n",
        "from sklearn.model_selection import RepeatedStratifiedKFold\n",
        "from sklearn.pipeline import Pipeline\n",
        "from matplotlib import pyplot\n",
        "# load dataset\n",
        "dataframe = read_csv(url, header=None, na_values='?')\n",
        "# split into input and output elements\n",
        "data = dataframe.values\n",
        "ix = [i for i in range(data.shape[1]) if i != 8]\n",
        "X, y = data[:, ix], data[:, 8]\n",
        "# evaluate each strategy on the dataset\n",
        "results = list()\n",
        "strategies = ['mean', 'median', 'most_frequent', 'constant']\n",
        "for s in strategies:\n",
        "  x_labels = [5,10,15,20]\n",
        "  scores=[]\n",
        "\t# create the modeling pipeline\n",
        "  pipeline = Pipeline(steps=[('i', SimpleImputer(strategy=s)), ('m', RandomForestClassifier())])\n",
        "\t# evaluate the model\n",
        "  cv5 = RepeatedStratifiedKFold(n_splits=5, n_repeats=3, random_state=1)\n",
        "  cv10 = RepeatedStratifiedKFold(n_splits=10, n_repeats=3, random_state=1)\n",
        "  cv15 = RepeatedStratifiedKFold(n_splits=15, n_repeats=3, random_state=1)\n",
        "  cv20 = RepeatedStratifiedKFold(n_splits=20, n_repeats=3, random_state=1)\n",
        "  scores.append(cross_val_score(pipeline, X, y, scoring='accuracy', cv=cv5, n_jobs=-1))\n",
        "  scores.append(cross_val_score(pipeline, X, y, scoring='accuracy', cv=cv10, n_jobs=-1))\n",
        "  scores.append(cross_val_score(pipeline, X, y, scoring='accuracy', cv=cv15, n_jobs=-1))\n",
        "  scores.append(cross_val_score(pipeline, X, y, scoring='accuracy', cv=cv20, n_jobs=-1))\n",
        "  pyplot.plot(x_labels,scores)\n",
        "  plt.show()\n",
        "\t# store results\n",
        "  results.append(scores)\n",
        "  print('>%s %.3f (%.3f)' % (s, mean(scores), std(scores)))\n",
        "# plot model performance for comparison\n",
        "#pyplot.boxplot(results, labels=strategies, showmeans=True)\n",
        "#pyplot.show()"
      ],
      "execution_count": null,
      "outputs": [
        {
          "output_type": "error",
          "ename": "ValueError",
          "evalue": "ignored",
          "traceback": [
            "\u001b[0;31m---------------------------------------------------------------------------\u001b[0m",
            "\u001b[0;31mTypeError\u001b[0m                                 Traceback (most recent call last)",
            "\u001b[0;31mTypeError\u001b[0m: only size-1 arrays can be converted to Python scalars",
            "\nThe above exception was the direct cause of the following exception:\n",
            "\u001b[0;31mValueError\u001b[0m                                Traceback (most recent call last)",
            "\u001b[0;32m<ipython-input-21-917e8940548c>\u001b[0m in \u001b[0;36m<module>\u001b[0;34m()\u001b[0m\n\u001b[1;32m     32\u001b[0m   \u001b[0mscores\u001b[0m\u001b[0;34m.\u001b[0m\u001b[0mappend\u001b[0m\u001b[0;34m(\u001b[0m\u001b[0mcross_val_score\u001b[0m\u001b[0;34m(\u001b[0m\u001b[0mpipeline\u001b[0m\u001b[0;34m,\u001b[0m \u001b[0mX\u001b[0m\u001b[0;34m,\u001b[0m \u001b[0my\u001b[0m\u001b[0;34m,\u001b[0m \u001b[0mscoring\u001b[0m\u001b[0;34m=\u001b[0m\u001b[0;34m'accuracy'\u001b[0m\u001b[0;34m,\u001b[0m \u001b[0mcv\u001b[0m\u001b[0;34m=\u001b[0m\u001b[0mcv15\u001b[0m\u001b[0;34m,\u001b[0m \u001b[0mn_jobs\u001b[0m\u001b[0;34m=\u001b[0m\u001b[0;34m-\u001b[0m\u001b[0;36m1\u001b[0m\u001b[0;34m)\u001b[0m\u001b[0;34m)\u001b[0m\u001b[0;34m\u001b[0m\u001b[0;34m\u001b[0m\u001b[0m\n\u001b[1;32m     33\u001b[0m   \u001b[0mscores\u001b[0m\u001b[0;34m.\u001b[0m\u001b[0mappend\u001b[0m\u001b[0;34m(\u001b[0m\u001b[0mcross_val_score\u001b[0m\u001b[0;34m(\u001b[0m\u001b[0mpipeline\u001b[0m\u001b[0;34m,\u001b[0m \u001b[0mX\u001b[0m\u001b[0;34m,\u001b[0m \u001b[0my\u001b[0m\u001b[0;34m,\u001b[0m \u001b[0mscoring\u001b[0m\u001b[0;34m=\u001b[0m\u001b[0;34m'accuracy'\u001b[0m\u001b[0;34m,\u001b[0m \u001b[0mcv\u001b[0m\u001b[0;34m=\u001b[0m\u001b[0mcv20\u001b[0m\u001b[0;34m,\u001b[0m \u001b[0mn_jobs\u001b[0m\u001b[0;34m=\u001b[0m\u001b[0;34m-\u001b[0m\u001b[0;36m1\u001b[0m\u001b[0;34m)\u001b[0m\u001b[0;34m)\u001b[0m\u001b[0;34m\u001b[0m\u001b[0;34m\u001b[0m\u001b[0m\n\u001b[0;32m---> 34\u001b[0;31m   \u001b[0mpyplot\u001b[0m\u001b[0;34m.\u001b[0m\u001b[0mplot\u001b[0m\u001b[0;34m(\u001b[0m\u001b[0mx_labels\u001b[0m\u001b[0;34m,\u001b[0m\u001b[0mscores\u001b[0m\u001b[0;34m)\u001b[0m\u001b[0;34m\u001b[0m\u001b[0;34m\u001b[0m\u001b[0m\n\u001b[0m\u001b[1;32m     35\u001b[0m   \u001b[0mplt\u001b[0m\u001b[0;34m.\u001b[0m\u001b[0mshow\u001b[0m\u001b[0;34m(\u001b[0m\u001b[0;34m)\u001b[0m\u001b[0;34m\u001b[0m\u001b[0;34m\u001b[0m\u001b[0m\n\u001b[1;32m     36\u001b[0m         \u001b[0;31m# store results\u001b[0m\u001b[0;34m\u001b[0m\u001b[0;34m\u001b[0m\u001b[0;34m\u001b[0m\u001b[0m\n",
            "\u001b[0;32m/usr/local/lib/python3.6/dist-packages/matplotlib/pyplot.py\u001b[0m in \u001b[0;36mplot\u001b[0;34m(scalex, scaley, data, *args, **kwargs)\u001b[0m\n\u001b[1;32m   2761\u001b[0m     return gca().plot(\n\u001b[1;32m   2762\u001b[0m         *args, scalex=scalex, scaley=scaley, **({\"data\": data} if data\n\u001b[0;32m-> 2763\u001b[0;31m         is not None else {}), **kwargs)\n\u001b[0m\u001b[1;32m   2764\u001b[0m \u001b[0;34m\u001b[0m\u001b[0m\n\u001b[1;32m   2765\u001b[0m \u001b[0;34m\u001b[0m\u001b[0m\n",
            "\u001b[0;32m/usr/local/lib/python3.6/dist-packages/matplotlib/axes/_axes.py\u001b[0m in \u001b[0;36mplot\u001b[0;34m(self, scalex, scaley, data, *args, **kwargs)\u001b[0m\n\u001b[1;32m   1647\u001b[0m         \u001b[0mlines\u001b[0m \u001b[0;34m=\u001b[0m \u001b[0;34m[\u001b[0m\u001b[0;34m*\u001b[0m\u001b[0mself\u001b[0m\u001b[0;34m.\u001b[0m\u001b[0m_get_lines\u001b[0m\u001b[0;34m(\u001b[0m\u001b[0;34m*\u001b[0m\u001b[0margs\u001b[0m\u001b[0;34m,\u001b[0m \u001b[0mdata\u001b[0m\u001b[0;34m=\u001b[0m\u001b[0mdata\u001b[0m\u001b[0;34m,\u001b[0m \u001b[0;34m**\u001b[0m\u001b[0mkwargs\u001b[0m\u001b[0;34m)\u001b[0m\u001b[0;34m]\u001b[0m\u001b[0;34m\u001b[0m\u001b[0;34m\u001b[0m\u001b[0m\n\u001b[1;32m   1648\u001b[0m         \u001b[0;32mfor\u001b[0m \u001b[0mline\u001b[0m \u001b[0;32min\u001b[0m \u001b[0mlines\u001b[0m\u001b[0;34m:\u001b[0m\u001b[0;34m\u001b[0m\u001b[0;34m\u001b[0m\u001b[0m\n\u001b[0;32m-> 1649\u001b[0;31m             \u001b[0mself\u001b[0m\u001b[0;34m.\u001b[0m\u001b[0madd_line\u001b[0m\u001b[0;34m(\u001b[0m\u001b[0mline\u001b[0m\u001b[0;34m)\u001b[0m\u001b[0;34m\u001b[0m\u001b[0;34m\u001b[0m\u001b[0m\n\u001b[0m\u001b[1;32m   1650\u001b[0m         \u001b[0mself\u001b[0m\u001b[0;34m.\u001b[0m\u001b[0m_request_autoscale_view\u001b[0m\u001b[0;34m(\u001b[0m\u001b[0mscalex\u001b[0m\u001b[0;34m=\u001b[0m\u001b[0mscalex\u001b[0m\u001b[0;34m,\u001b[0m \u001b[0mscaley\u001b[0m\u001b[0;34m=\u001b[0m\u001b[0mscaley\u001b[0m\u001b[0;34m)\u001b[0m\u001b[0;34m\u001b[0m\u001b[0;34m\u001b[0m\u001b[0m\n\u001b[1;32m   1651\u001b[0m         \u001b[0;32mreturn\u001b[0m \u001b[0mlines\u001b[0m\u001b[0;34m\u001b[0m\u001b[0;34m\u001b[0m\u001b[0m\n",
            "\u001b[0;32m/usr/local/lib/python3.6/dist-packages/matplotlib/axes/_base.py\u001b[0m in \u001b[0;36madd_line\u001b[0;34m(self, line)\u001b[0m\n\u001b[1;32m   1848\u001b[0m             \u001b[0mline\u001b[0m\u001b[0;34m.\u001b[0m\u001b[0mset_clip_path\u001b[0m\u001b[0;34m(\u001b[0m\u001b[0mself\u001b[0m\u001b[0;34m.\u001b[0m\u001b[0mpatch\u001b[0m\u001b[0;34m)\u001b[0m\u001b[0;34m\u001b[0m\u001b[0;34m\u001b[0m\u001b[0m\n\u001b[1;32m   1849\u001b[0m \u001b[0;34m\u001b[0m\u001b[0m\n\u001b[0;32m-> 1850\u001b[0;31m         \u001b[0mself\u001b[0m\u001b[0;34m.\u001b[0m\u001b[0m_update_line_limits\u001b[0m\u001b[0;34m(\u001b[0m\u001b[0mline\u001b[0m\u001b[0;34m)\u001b[0m\u001b[0;34m\u001b[0m\u001b[0;34m\u001b[0m\u001b[0m\n\u001b[0m\u001b[1;32m   1851\u001b[0m         \u001b[0;32mif\u001b[0m \u001b[0;32mnot\u001b[0m \u001b[0mline\u001b[0m\u001b[0;34m.\u001b[0m\u001b[0mget_label\u001b[0m\u001b[0;34m(\u001b[0m\u001b[0;34m)\u001b[0m\u001b[0;34m:\u001b[0m\u001b[0;34m\u001b[0m\u001b[0;34m\u001b[0m\u001b[0m\n\u001b[1;32m   1852\u001b[0m             \u001b[0mline\u001b[0m\u001b[0;34m.\u001b[0m\u001b[0mset_label\u001b[0m\u001b[0;34m(\u001b[0m\u001b[0;34m'_line%d'\u001b[0m \u001b[0;34m%\u001b[0m \u001b[0mlen\u001b[0m\u001b[0;34m(\u001b[0m\u001b[0mself\u001b[0m\u001b[0;34m.\u001b[0m\u001b[0mlines\u001b[0m\u001b[0;34m)\u001b[0m\u001b[0;34m)\u001b[0m\u001b[0;34m\u001b[0m\u001b[0;34m\u001b[0m\u001b[0m\n",
            "\u001b[0;32m/usr/local/lib/python3.6/dist-packages/matplotlib/axes/_base.py\u001b[0m in \u001b[0;36m_update_line_limits\u001b[0;34m(self, line)\u001b[0m\n\u001b[1;32m   1870\u001b[0m         \u001b[0mFigures\u001b[0m \u001b[0mout\u001b[0m \u001b[0mthe\u001b[0m \u001b[0mdata\u001b[0m \u001b[0mlimit\u001b[0m \u001b[0mof\u001b[0m \u001b[0mthe\u001b[0m \u001b[0mgiven\u001b[0m \u001b[0mline\u001b[0m\u001b[0;34m,\u001b[0m \u001b[0mupdating\u001b[0m \u001b[0mself\u001b[0m\u001b[0;34m.\u001b[0m\u001b[0mdataLim\u001b[0m\u001b[0;34m.\u001b[0m\u001b[0;34m\u001b[0m\u001b[0;34m\u001b[0m\u001b[0m\n\u001b[1;32m   1871\u001b[0m         \"\"\"\n\u001b[0;32m-> 1872\u001b[0;31m         \u001b[0mpath\u001b[0m \u001b[0;34m=\u001b[0m \u001b[0mline\u001b[0m\u001b[0;34m.\u001b[0m\u001b[0mget_path\u001b[0m\u001b[0;34m(\u001b[0m\u001b[0;34m)\u001b[0m\u001b[0;34m\u001b[0m\u001b[0;34m\u001b[0m\u001b[0m\n\u001b[0m\u001b[1;32m   1873\u001b[0m         \u001b[0;32mif\u001b[0m \u001b[0mpath\u001b[0m\u001b[0;34m.\u001b[0m\u001b[0mvertices\u001b[0m\u001b[0;34m.\u001b[0m\u001b[0msize\u001b[0m \u001b[0;34m==\u001b[0m \u001b[0;36m0\u001b[0m\u001b[0;34m:\u001b[0m\u001b[0;34m\u001b[0m\u001b[0;34m\u001b[0m\u001b[0m\n\u001b[1;32m   1874\u001b[0m             \u001b[0;32mreturn\u001b[0m\u001b[0;34m\u001b[0m\u001b[0;34m\u001b[0m\u001b[0m\n",
            "\u001b[0;32m/usr/local/lib/python3.6/dist-packages/matplotlib/lines.py\u001b[0m in \u001b[0;36mget_path\u001b[0;34m(self)\u001b[0m\n\u001b[1;32m   1025\u001b[0m         \"\"\"\n\u001b[1;32m   1026\u001b[0m         \u001b[0;32mif\u001b[0m \u001b[0mself\u001b[0m\u001b[0;34m.\u001b[0m\u001b[0m_invalidy\u001b[0m \u001b[0;32mor\u001b[0m \u001b[0mself\u001b[0m\u001b[0;34m.\u001b[0m\u001b[0m_invalidx\u001b[0m\u001b[0;34m:\u001b[0m\u001b[0;34m\u001b[0m\u001b[0;34m\u001b[0m\u001b[0m\n\u001b[0;32m-> 1027\u001b[0;31m             \u001b[0mself\u001b[0m\u001b[0;34m.\u001b[0m\u001b[0mrecache\u001b[0m\u001b[0;34m(\u001b[0m\u001b[0;34m)\u001b[0m\u001b[0;34m\u001b[0m\u001b[0;34m\u001b[0m\u001b[0m\n\u001b[0m\u001b[1;32m   1028\u001b[0m         \u001b[0;32mreturn\u001b[0m \u001b[0mself\u001b[0m\u001b[0;34m.\u001b[0m\u001b[0m_path\u001b[0m\u001b[0;34m\u001b[0m\u001b[0;34m\u001b[0m\u001b[0m\n\u001b[1;32m   1029\u001b[0m \u001b[0;34m\u001b[0m\u001b[0m\n",
            "\u001b[0;32m/usr/local/lib/python3.6/dist-packages/matplotlib/lines.py\u001b[0m in \u001b[0;36mrecache\u001b[0;34m(self, always)\u001b[0m\n\u001b[1;32m    673\u001b[0m         \u001b[0;32mif\u001b[0m \u001b[0malways\u001b[0m \u001b[0;32mor\u001b[0m \u001b[0mself\u001b[0m\u001b[0;34m.\u001b[0m\u001b[0m_invalidy\u001b[0m\u001b[0;34m:\u001b[0m\u001b[0;34m\u001b[0m\u001b[0;34m\u001b[0m\u001b[0m\n\u001b[1;32m    674\u001b[0m             \u001b[0myconv\u001b[0m \u001b[0;34m=\u001b[0m \u001b[0mself\u001b[0m\u001b[0;34m.\u001b[0m\u001b[0mconvert_yunits\u001b[0m\u001b[0;34m(\u001b[0m\u001b[0mself\u001b[0m\u001b[0;34m.\u001b[0m\u001b[0m_yorig\u001b[0m\u001b[0;34m)\u001b[0m\u001b[0;34m\u001b[0m\u001b[0;34m\u001b[0m\u001b[0m\n\u001b[0;32m--> 675\u001b[0;31m             \u001b[0my\u001b[0m \u001b[0;34m=\u001b[0m \u001b[0m_to_unmasked_float_array\u001b[0m\u001b[0;34m(\u001b[0m\u001b[0myconv\u001b[0m\u001b[0;34m)\u001b[0m\u001b[0;34m.\u001b[0m\u001b[0mravel\u001b[0m\u001b[0;34m(\u001b[0m\u001b[0;34m)\u001b[0m\u001b[0;34m\u001b[0m\u001b[0;34m\u001b[0m\u001b[0m\n\u001b[0m\u001b[1;32m    676\u001b[0m         \u001b[0;32melse\u001b[0m\u001b[0;34m:\u001b[0m\u001b[0;34m\u001b[0m\u001b[0;34m\u001b[0m\u001b[0m\n\u001b[1;32m    677\u001b[0m             \u001b[0my\u001b[0m \u001b[0;34m=\u001b[0m \u001b[0mself\u001b[0m\u001b[0;34m.\u001b[0m\u001b[0m_y\u001b[0m\u001b[0;34m\u001b[0m\u001b[0;34m\u001b[0m\u001b[0m\n",
            "\u001b[0;32m/usr/local/lib/python3.6/dist-packages/matplotlib/cbook/__init__.py\u001b[0m in \u001b[0;36m_to_unmasked_float_array\u001b[0;34m(x)\u001b[0m\n\u001b[1;32m   1315\u001b[0m         \u001b[0;32mreturn\u001b[0m \u001b[0mnp\u001b[0m\u001b[0;34m.\u001b[0m\u001b[0mma\u001b[0m\u001b[0;34m.\u001b[0m\u001b[0masarray\u001b[0m\u001b[0;34m(\u001b[0m\u001b[0mx\u001b[0m\u001b[0;34m,\u001b[0m \u001b[0mfloat\u001b[0m\u001b[0;34m)\u001b[0m\u001b[0;34m.\u001b[0m\u001b[0mfilled\u001b[0m\u001b[0;34m(\u001b[0m\u001b[0mnp\u001b[0m\u001b[0;34m.\u001b[0m\u001b[0mnan\u001b[0m\u001b[0;34m)\u001b[0m\u001b[0;34m\u001b[0m\u001b[0;34m\u001b[0m\u001b[0m\n\u001b[1;32m   1316\u001b[0m     \u001b[0;32melse\u001b[0m\u001b[0;34m:\u001b[0m\u001b[0;34m\u001b[0m\u001b[0;34m\u001b[0m\u001b[0m\n\u001b[0;32m-> 1317\u001b[0;31m         \u001b[0;32mreturn\u001b[0m \u001b[0mnp\u001b[0m\u001b[0;34m.\u001b[0m\u001b[0masarray\u001b[0m\u001b[0;34m(\u001b[0m\u001b[0mx\u001b[0m\u001b[0;34m,\u001b[0m \u001b[0mfloat\u001b[0m\u001b[0;34m)\u001b[0m\u001b[0;34m\u001b[0m\u001b[0;34m\u001b[0m\u001b[0m\n\u001b[0m\u001b[1;32m   1318\u001b[0m \u001b[0;34m\u001b[0m\u001b[0m\n\u001b[1;32m   1319\u001b[0m \u001b[0;34m\u001b[0m\u001b[0m\n",
            "\u001b[0;32m/usr/local/lib/python3.6/dist-packages/numpy/core/_asarray.py\u001b[0m in \u001b[0;36masarray\u001b[0;34m(a, dtype, order)\u001b[0m\n\u001b[1;32m     83\u001b[0m \u001b[0;34m\u001b[0m\u001b[0m\n\u001b[1;32m     84\u001b[0m     \"\"\"\n\u001b[0;32m---> 85\u001b[0;31m     \u001b[0;32mreturn\u001b[0m \u001b[0marray\u001b[0m\u001b[0;34m(\u001b[0m\u001b[0ma\u001b[0m\u001b[0;34m,\u001b[0m \u001b[0mdtype\u001b[0m\u001b[0;34m,\u001b[0m \u001b[0mcopy\u001b[0m\u001b[0;34m=\u001b[0m\u001b[0;32mFalse\u001b[0m\u001b[0;34m,\u001b[0m \u001b[0morder\u001b[0m\u001b[0;34m=\u001b[0m\u001b[0morder\u001b[0m\u001b[0;34m)\u001b[0m\u001b[0;34m\u001b[0m\u001b[0;34m\u001b[0m\u001b[0m\n\u001b[0m\u001b[1;32m     86\u001b[0m \u001b[0;34m\u001b[0m\u001b[0m\n\u001b[1;32m     87\u001b[0m \u001b[0;34m\u001b[0m\u001b[0m\n",
            "\u001b[0;31mValueError\u001b[0m: setting an array element with a sequence."
          ]
        },
        {
          "output_type": "display_data",
          "data": {
            "image/png": "[encoded data removed]",
            "text/plain": [
              "<Figure size 432x288 with 1 Axes>"
            ]
          },
          "metadata": {
            "tags": [],
            "needs_background": "light"
          }
        }
      ]
    },
    {
      "cell_type": "markdown",
      "metadata": {
        "id": "7m3dkY2lsDNe"
      },
      "source": [
        "We have used Random Forest Classifier, Cross-Validation and Simple Imputer and compared the results for mean, median, most_frequent and constant.\n",
        "The maximum model performance can be observed for constant. The score obtained is 0.765. "
      ]
    }
  ]
}